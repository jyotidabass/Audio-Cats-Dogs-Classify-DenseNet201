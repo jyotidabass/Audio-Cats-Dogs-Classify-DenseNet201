{
 "cells": [
  {
   "cell_type": "markdown",
   "id": "ddd905d6",
   "metadata": {
    "papermill": {
     "duration": 0.006002,
     "end_time": "2023-02-10T18:29:53.458085",
     "exception": false,
     "start_time": "2023-02-10T18:29:53.452083",
     "status": "completed"
    },
    "tags": []
   },
   "source": [
    "# Audio Cats/Dogs Classify DenseNet201"
   ]
  },
  {
   "cell_type": "code",
   "execution_count": 1,
   "id": "62d2dacc",
   "metadata": {
    "execution": {
     "iopub.execute_input": "2023-02-10T18:29:53.471596Z",
     "iopub.status.busy": "2023-02-10T18:29:53.470815Z",
     "iopub.status.idle": "2023-02-10T18:30:01.380151Z",
     "shell.execute_reply": "2023-02-10T18:30:01.378714Z"
    },
    "papermill": {
     "duration": 7.918989,
     "end_time": "2023-02-10T18:30:01.382987",
     "exception": false,
     "start_time": "2023-02-10T18:29:53.463998",
     "status": "completed"
    },
    "tags": []
   },
   "outputs": [],
   "source": [
    "import os\n",
    "import cv2\n",
    "import numpy as np\n",
    "import pandas as pd\n",
    "import matplotlib.pyplot as plt\n",
    "import tensorflow as tf\n",
    "from tensorflow.keras.utils import to_categorical\n",
    "from tensorflow.keras.preprocessing.image import load_img, img_to_array\n",
    "from tensorflow.python.keras.preprocessing.image import ImageDataGenerator\n",
    "from sklearn.metrics import classification_report, log_loss, accuracy_score\n",
    "from sklearn.model_selection import train_test_split\n",
    "import librosa"
   ]
  },
  {
   "cell_type": "code",
   "execution_count": 2,
   "id": "fed31e37",
   "metadata": {
    "execution": {
     "iopub.execute_input": "2023-02-10T18:30:01.395988Z",
     "iopub.status.busy": "2023-02-10T18:30:01.395161Z",
     "iopub.status.idle": "2023-02-10T18:30:01.477923Z",
     "shell.execute_reply": "2023-02-10T18:30:01.476821Z"
    },
    "papermill": {
     "duration": 0.092635,
     "end_time": "2023-02-10T18:30:01.481071",
     "exception": false,
     "start_time": "2023-02-10T18:30:01.388436",
     "status": "completed"
    },
    "tags": []
   },
   "outputs": [],
   "source": [
    "train_dir = '/kaggle/input/audio-cats-and-dogs/cats_dogs/train'\n",
    "test_dir = '/kaggle/input/audio-cats-and-dogs/cats_dogs/test'\n",
    "train_paths=[]\n",
    "for dirname, _, filenames in os.walk(train_dir):\n",
    "    for filename in filenames:\n",
    "        train_paths+=[(os.path.join(dirname, filename))]\n",
    "test_paths=[]\n",
    "for dirname, _, filenames in os.walk(test_dir):\n",
    "    for filename in filenames:\n",
    "        test_paths+=[(os.path.join(dirname, filename))]"
   ]
  },
  {
   "cell_type": "code",
   "execution_count": 3,
   "id": "1d8f6be6",
   "metadata": {
    "execution": {
     "iopub.execute_input": "2023-02-10T18:30:01.493466Z",
     "iopub.status.busy": "2023-02-10T18:30:01.493066Z",
     "iopub.status.idle": "2023-02-10T18:30:01.498806Z",
     "shell.execute_reply": "2023-02-10T18:30:01.497516Z"
    },
    "papermill": {
     "duration": 0.014325,
     "end_time": "2023-02-10T18:30:01.500838",
     "exception": false,
     "start_time": "2023-02-10T18:30:01.486513",
     "status": "completed"
    },
    "tags": []
   },
   "outputs": [],
   "source": [
    "Name=['dog','cat']\n",
    "N=list(range(len(Name)))    \n",
    "normal_mapping=dict(zip(Name,N)) \n",
    "reverse_mapping=dict(zip(N,Name))\n",
    "Wrong_Name=['test','cats']\n",
    "fix_mapping=dict(zip(Wrong_Name,Name))"
   ]
  },
  {
   "cell_type": "markdown",
   "id": "36e29bcd",
   "metadata": {
    "papermill": {
     "duration": 0.004952,
     "end_time": "2023-02-10T18:30:01.511096",
     "exception": false,
     "start_time": "2023-02-10T18:30:01.506144",
     "status": "completed"
    },
    "tags": []
   },
   "source": [
    "# Sound to Image"
   ]
  },
  {
   "cell_type": "code",
   "execution_count": 4,
   "id": "f4096bfa",
   "metadata": {
    "execution": {
     "iopub.execute_input": "2023-02-10T18:30:01.523362Z",
     "iopub.status.busy": "2023-02-10T18:30:01.522723Z",
     "iopub.status.idle": "2023-02-10T18:31:21.053461Z",
     "shell.execute_reply": "2023-02-10T18:31:21.052630Z"
    },
    "papermill": {
     "duration": 79.539472,
     "end_time": "2023-02-10T18:31:21.055736",
     "exception": false,
     "start_time": "2023-02-10T18:30:01.516264",
     "status": "completed"
    },
    "tags": []
   },
   "outputs": [
    {
     "name": "stderr",
     "output_type": "stream",
     "text": [
      "/opt/conda/lib/python3.7/site-packages/ipykernel_launcher.py:11: RuntimeWarning: invalid value encountered in true_divide\n",
      "  # This is added back by InteractiveShellApp.init_path()\n",
      "/opt/conda/lib/python3.7/site-packages/ipykernel_launcher.py:25: RuntimeWarning: invalid value encountered in true_divide\n"
     ]
    }
   ],
   "source": [
    "train=[]\n",
    "train_labels=[]\n",
    "for path in train_paths:\n",
    "    label=path.split('/')[-2]\n",
    "    y, sr = librosa.load(path)\n",
    "    mel_spectrogram = librosa.feature.melspectrogram(y=y, sr=sr, n_mels=128)\n",
    "    log_mel_spectrogram = librosa.power_to_db(mel_spectrogram, ref=np.max)\n",
    "    img=log_mel_spectrogram\n",
    "    img=cv2.resize(np.array(img),dsize=(128,128))\n",
    "    X=cv2.cvtColor(img, cv2.COLOR_BGR2RGB)\n",
    "    X = (X - X.min(axis=0)) / (X.max(axis=0) - X.min(axis=0))\n",
    "    train+=[X*255]\n",
    "    train_labels+=[normal_mapping[label]]\n",
    "    \n",
    "test=[]\n",
    "test_labels=[]\n",
    "for path in test_paths:\n",
    "    label=path.split('/')[-2]\n",
    "    y, sr = librosa.load(path)\n",
    "    mel_spectrogram = librosa.feature.melspectrogram(y=y, sr=sr, n_mels=128)\n",
    "    log_mel_spectrogram = librosa.power_to_db(mel_spectrogram, ref=np.max)\n",
    "    img=log_mel_spectrogram\n",
    "    img=cv2.resize(np.array(img),dsize=(128,128))\n",
    "    X=cv2.cvtColor(img, cv2.COLOR_BGR2RGB)\n",
    "    X = (X - X.min(axis=0)) / (X.max(axis=0) - X.min(axis=0))\n",
    "    test+=[X*255]\n",
    "    test_labels+=[normal_mapping[fix_mapping[label]]]"
   ]
  },
  {
   "cell_type": "code",
   "execution_count": 5,
   "id": "887fe7d4",
   "metadata": {
    "execution": {
     "iopub.execute_input": "2023-02-10T18:31:21.070581Z",
     "iopub.status.busy": "2023-02-10T18:31:21.070228Z",
     "iopub.status.idle": "2023-02-10T18:31:21.089968Z",
     "shell.execute_reply": "2023-02-10T18:31:21.089149Z"
    },
    "papermill": {
     "duration": 0.029741,
     "end_time": "2023-02-10T18:31:21.092249",
     "exception": false,
     "start_time": "2023-02-10T18:31:21.062508",
     "status": "completed"
    },
    "tags": []
   },
   "outputs": [],
   "source": [
    "trainX = np.array(train)\n",
    "testX = np.array(test)\n",
    "train_labels = np.array(train_labels)\n",
    "test_labels = np.array(test_labels)\n",
    "train_labels = to_categorical(train_labels)\n",
    "#test_labels = to_categorical(test_labels)"
   ]
  },
  {
   "cell_type": "code",
   "execution_count": 6,
   "id": "6a3ed1da",
   "metadata": {
    "execution": {
     "iopub.execute_input": "2023-02-10T18:31:21.107971Z",
     "iopub.status.busy": "2023-02-10T18:31:21.107622Z",
     "iopub.status.idle": "2023-02-10T18:31:21.122423Z",
     "shell.execute_reply": "2023-02-10T18:31:21.121612Z"
    },
    "papermill": {
     "duration": 0.025025,
     "end_time": "2023-02-10T18:31:21.124651",
     "exception": false,
     "start_time": "2023-02-10T18:31:21.099626",
     "status": "completed"
    },
    "tags": []
   },
   "outputs": [],
   "source": [
    "trainx,testx,trainy,testy = train_test_split(\n",
    "    trainX,train_labels,test_size=0.2,random_state=44)"
   ]
  },
  {
   "cell_type": "code",
   "execution_count": 7,
   "id": "41c8764a",
   "metadata": {
    "execution": {
     "iopub.execute_input": "2023-02-10T18:31:21.138996Z",
     "iopub.status.busy": "2023-02-10T18:31:21.138705Z",
     "iopub.status.idle": "2023-02-10T18:31:21.143198Z",
     "shell.execute_reply": "2023-02-10T18:31:21.142531Z"
    },
    "papermill": {
     "duration": 0.015818,
     "end_time": "2023-02-10T18:31:21.147213",
     "exception": false,
     "start_time": "2023-02-10T18:31:21.131395",
     "status": "completed"
    },
    "tags": []
   },
   "outputs": [
    {
     "name": "stdout",
     "output_type": "stream",
     "text": [
      "(168, 128, 128, 3)\n",
      "(42, 128, 128, 3)\n",
      "(168, 2)\n",
      "(42, 2)\n"
     ]
    }
   ],
   "source": [
    "print(trainx.shape)\n",
    "print(testx.shape)\n",
    "print(trainy.shape)\n",
    "print(testy.shape)"
   ]
  },
  {
   "cell_type": "code",
   "execution_count": 8,
   "id": "3440e5dd",
   "metadata": {
    "execution": {
     "iopub.execute_input": "2023-02-10T18:31:21.161448Z",
     "iopub.status.busy": "2023-02-10T18:31:21.161124Z",
     "iopub.status.idle": "2023-02-10T18:31:21.169263Z",
     "shell.execute_reply": "2023-02-10T18:31:21.168574Z"
    },
    "papermill": {
     "duration": 0.01919,
     "end_time": "2023-02-10T18:31:21.172906",
     "exception": false,
     "start_time": "2023-02-10T18:31:21.153716",
     "status": "completed"
    },
    "tags": []
   },
   "outputs": [
    {
     "data": {
      "text/plain": [
       "(0.0, 255.0)"
      ]
     },
     "execution_count": 8,
     "metadata": {},
     "output_type": "execute_result"
    }
   ],
   "source": [
    "testx[0].min(),testx[0].max()"
   ]
  },
  {
   "cell_type": "code",
   "execution_count": 9,
   "id": "e32e8bdd",
   "metadata": {
    "execution": {
     "iopub.execute_input": "2023-02-10T18:31:21.184635Z",
     "iopub.status.busy": "2023-02-10T18:31:21.184291Z",
     "iopub.status.idle": "2023-02-10T18:31:21.190119Z",
     "shell.execute_reply": "2023-02-10T18:31:21.189330Z"
    },
    "papermill": {
     "duration": 0.013595,
     "end_time": "2023-02-10T18:31:21.191812",
     "exception": false,
     "start_time": "2023-02-10T18:31:21.178217",
     "status": "completed"
    },
    "tags": []
   },
   "outputs": [
    {
     "data": {
      "text/plain": [
       "array([[1., 0.],\n",
       "       [1., 0.],\n",
       "       [1., 0.]], dtype=float32)"
      ]
     },
     "execution_count": 9,
     "metadata": {},
     "output_type": "execute_result"
    }
   ],
   "source": [
    "trainy[0:3]"
   ]
  },
  {
   "cell_type": "code",
   "execution_count": 10,
   "id": "77199cc8",
   "metadata": {
    "execution": {
     "iopub.execute_input": "2023-02-10T18:31:21.204918Z",
     "iopub.status.busy": "2023-02-10T18:31:21.204530Z",
     "iopub.status.idle": "2023-02-10T18:31:21.209736Z",
     "shell.execute_reply": "2023-02-10T18:31:21.208883Z"
    },
    "papermill": {
     "duration": 0.014138,
     "end_time": "2023-02-10T18:31:21.211412",
     "exception": false,
     "start_time": "2023-02-10T18:31:21.197274",
     "status": "completed"
    },
    "tags": []
   },
   "outputs": [],
   "source": [
    "datagen = ImageDataGenerator(\n",
    "             horizontal_flip=True,vertical_flip=True,\n",
    "             rotation_range=20,zoom_range=0.2,\n",
    "             width_shift_range=0.2,height_shift_range=0.2,\n",
    "             shear_range=0.1,fill_mode=\"nearest\")"
   ]
  },
  {
   "cell_type": "markdown",
   "id": "64cd8a03",
   "metadata": {
    "papermill": {
     "duration": 0.005047,
     "end_time": "2023-02-10T18:31:21.221799",
     "exception": false,
     "start_time": "2023-02-10T18:31:21.216752",
     "status": "completed"
    },
    "tags": []
   },
   "source": [
    "# Model"
   ]
  },
  {
   "cell_type": "code",
   "execution_count": 11,
   "id": "c4ff02a8",
   "metadata": {
    "execution": {
     "iopub.execute_input": "2023-02-10T18:31:21.234169Z",
     "iopub.status.busy": "2023-02-10T18:31:21.233815Z",
     "iopub.status.idle": "2023-02-10T18:31:28.458097Z",
     "shell.execute_reply": "2023-02-10T18:31:28.457433Z"
    },
    "papermill": {
     "duration": 7.232909,
     "end_time": "2023-02-10T18:31:28.460135",
     "exception": false,
     "start_time": "2023-02-10T18:31:21.227226",
     "status": "completed"
    },
    "tags": []
   },
   "outputs": [
    {
     "name": "stderr",
     "output_type": "stream",
     "text": [
      "2023-02-10 18:31:21.287751: I tensorflow/core/common_runtime/process_util.cc:146] Creating new thread pool with default inter op setting: 2. Tune using inter_op_parallelism_threads for best performance.\n"
     ]
    },
    {
     "name": "stdout",
     "output_type": "stream",
     "text": [
      "Downloading data from https://storage.googleapis.com/tensorflow/keras-applications/densenet/densenet201_weights_tf_dim_ordering_tf_kernels_notop.h5\n",
      "74842112/74836368 [==============================] - 3s 0us/step\n",
      "74850304/74836368 [==============================] - 3s 0us/step\n"
     ]
    }
   ],
   "source": [
    "pretrained_model3 = tf.keras.applications.DenseNet201(input_shape=(128,128,3),\n",
    "                            include_top=False,weights='imagenet',pooling='avg')\n",
    "pretrained_model3.trainable = False"
   ]
  },
  {
   "cell_type": "code",
   "execution_count": 12,
   "id": "cea148a4",
   "metadata": {
    "execution": {
     "iopub.execute_input": "2023-02-10T18:31:28.478027Z",
     "iopub.status.busy": "2023-02-10T18:31:28.477538Z",
     "iopub.status.idle": "2023-02-10T18:31:28.541938Z",
     "shell.execute_reply": "2023-02-10T18:31:28.540467Z"
    },
    "papermill": {
     "duration": 0.075905,
     "end_time": "2023-02-10T18:31:28.544265",
     "exception": false,
     "start_time": "2023-02-10T18:31:28.468360",
     "status": "completed"
    },
    "tags": []
   },
   "outputs": [],
   "source": [
    "inputs3 = pretrained_model3.input\n",
    "x3 = tf.keras.layers.Dense(128, activation='relu')(pretrained_model3.output)\n",
    "outputs3 = tf.keras.layers.Dense(2, activation='softmax')(x3)\n",
    "model = tf.keras.Model(inputs=inputs3, outputs=outputs3)"
   ]
  },
  {
   "cell_type": "code",
   "execution_count": 13,
   "id": "f09778b7",
   "metadata": {
    "execution": {
     "iopub.execute_input": "2023-02-10T18:31:28.561681Z",
     "iopub.status.busy": "2023-02-10T18:31:28.561312Z",
     "iopub.status.idle": "2023-02-10T18:31:28.583651Z",
     "shell.execute_reply": "2023-02-10T18:31:28.582753Z"
    },
    "papermill": {
     "duration": 0.033511,
     "end_time": "2023-02-10T18:31:28.585849",
     "exception": false,
     "start_time": "2023-02-10T18:31:28.552338",
     "status": "completed"
    },
    "tags": []
   },
   "outputs": [],
   "source": [
    "model.compile(optimizer='adam',\n",
    "              loss='categorical_crossentropy',\n",
    "              metrics=['accuracy'])"
   ]
  },
  {
   "cell_type": "code",
   "execution_count": 14,
   "id": "fcfc2b4b",
   "metadata": {
    "execution": {
     "iopub.execute_input": "2023-02-10T18:31:28.603883Z",
     "iopub.status.busy": "2023-02-10T18:31:28.603525Z",
     "iopub.status.idle": "2023-02-10T18:47:40.105905Z",
     "shell.execute_reply": "2023-02-10T18:47:40.104615Z"
    },
    "papermill": {
     "duration": 971.514561,
     "end_time": "2023-02-10T18:47:40.108662",
     "exception": false,
     "start_time": "2023-02-10T18:31:28.594101",
     "status": "completed"
    },
    "tags": []
   },
   "outputs": [
    {
     "name": "stderr",
     "output_type": "stream",
     "text": [
      "2023-02-10 18:31:28.750888: I tensorflow/compiler/mlir/mlir_graph_optimization_pass.cc:185] None of the MLIR Optimization Passes are enabled (registered 2)\n"
     ]
    },
    {
     "name": "stdout",
     "output_type": "stream",
     "text": [
      "Epoch 1/100\n",
      "11/11 [==============================] - 19s 905ms/step - loss: 2.4429 - accuracy: 0.6190 - val_loss: 2.1776 - val_accuracy: 0.6667\n",
      "Epoch 2/100\n",
      "11/11 [==============================] - 6s 521ms/step - loss: 0.9418 - accuracy: 0.7262 - val_loss: 1.4425 - val_accuracy: 0.8095\n",
      "Epoch 3/100\n",
      "11/11 [==============================] - 6s 579ms/step - loss: 0.8761 - accuracy: 0.8036 - val_loss: 0.9444 - val_accuracy: 0.7857\n",
      "Epoch 4/100\n",
      "11/11 [==============================] - 6s 534ms/step - loss: 0.6852 - accuracy: 0.7976 - val_loss: 0.8326 - val_accuracy: 0.7619\n",
      "Epoch 5/100\n",
      "11/11 [==============================] - 6s 526ms/step - loss: 0.8491 - accuracy: 0.7262 - val_loss: 1.5036 - val_accuracy: 0.6667\n",
      "Epoch 6/100\n",
      "11/11 [==============================] - 6s 569ms/step - loss: 0.6334 - accuracy: 0.8095 - val_loss: 0.9060 - val_accuracy: 0.7381\n",
      "Epoch 7/100\n",
      "11/11 [==============================] - 6s 532ms/step - loss: 0.5386 - accuracy: 0.8095 - val_loss: 1.0446 - val_accuracy: 0.8333\n",
      "Epoch 8/100\n",
      "11/11 [==============================] - 6s 524ms/step - loss: 0.4468 - accuracy: 0.8214 - val_loss: 1.0389 - val_accuracy: 0.7619\n",
      "Epoch 9/100\n",
      "11/11 [==============================] - 6s 572ms/step - loss: 0.3869 - accuracy: 0.8333 - val_loss: 1.2186 - val_accuracy: 0.7381\n",
      "Epoch 10/100\n",
      "11/11 [==============================] - 6s 513ms/step - loss: 0.4811 - accuracy: 0.8274 - val_loss: 1.0554 - val_accuracy: 0.7857\n",
      "Epoch 11/100\n",
      "11/11 [==============================] - 6s 522ms/step - loss: 0.3798 - accuracy: 0.8571 - val_loss: 1.2178 - val_accuracy: 0.7143\n",
      "Epoch 12/100\n",
      "11/11 [==============================] - 6s 583ms/step - loss: 0.3973 - accuracy: 0.8452 - val_loss: 0.6592 - val_accuracy: 0.7857\n",
      "Epoch 13/100\n",
      "11/11 [==============================] - 6s 543ms/step - loss: 0.2242 - accuracy: 0.9107 - val_loss: 0.5883 - val_accuracy: 0.8095\n",
      "Epoch 14/100\n",
      "11/11 [==============================] - 6s 526ms/step - loss: 0.2906 - accuracy: 0.8869 - val_loss: 0.6140 - val_accuracy: 0.8095\n",
      "Epoch 15/100\n",
      "11/11 [==============================] - 6s 588ms/step - loss: 0.1905 - accuracy: 0.9107 - val_loss: 0.6615 - val_accuracy: 0.8095\n",
      "Epoch 16/100\n",
      "11/11 [==============================] - 6s 535ms/step - loss: 0.2296 - accuracy: 0.9167 - val_loss: 0.4848 - val_accuracy: 0.7857\n",
      "Epoch 17/100\n",
      "11/11 [==============================] - 6s 542ms/step - loss: 0.2371 - accuracy: 0.9107 - val_loss: 0.6950 - val_accuracy: 0.7143\n",
      "Epoch 18/100\n",
      "11/11 [==============================] - 6s 516ms/step - loss: 0.2150 - accuracy: 0.8988 - val_loss: 0.7354 - val_accuracy: 0.8333\n",
      "Epoch 19/100\n",
      "11/11 [==============================] - 6s 573ms/step - loss: 0.2798 - accuracy: 0.8750 - val_loss: 0.8126 - val_accuracy: 0.8571\n",
      "Epoch 20/100\n",
      "11/11 [==============================] - 6s 525ms/step - loss: 0.2147 - accuracy: 0.9107 - val_loss: 0.6868 - val_accuracy: 0.7143\n",
      "Epoch 21/100\n",
      "11/11 [==============================] - 6s 517ms/step - loss: 0.2118 - accuracy: 0.9048 - val_loss: 0.7365 - val_accuracy: 0.7619\n",
      "Epoch 22/100\n",
      "11/11 [==============================] - 6s 518ms/step - loss: 0.2273 - accuracy: 0.8988 - val_loss: 0.7820 - val_accuracy: 0.7619\n",
      "Epoch 23/100\n",
      "11/11 [==============================] - 6s 568ms/step - loss: 0.1711 - accuracy: 0.9405 - val_loss: 1.0422 - val_accuracy: 0.8333\n",
      "Epoch 24/100\n",
      "11/11 [==============================] - 6s 514ms/step - loss: 0.4477 - accuracy: 0.8512 - val_loss: 0.6899 - val_accuracy: 0.8095\n",
      "Epoch 25/100\n",
      "11/11 [==============================] - 6s 520ms/step - loss: 0.3177 - accuracy: 0.8869 - val_loss: 1.1674 - val_accuracy: 0.7619\n",
      "Epoch 26/100\n",
      "11/11 [==============================] - 6s 509ms/step - loss: 0.3696 - accuracy: 0.8750 - val_loss: 1.1258 - val_accuracy: 0.7857\n",
      "Epoch 27/100\n",
      "11/11 [==============================] - 6s 559ms/step - loss: 0.2028 - accuracy: 0.9464 - val_loss: 0.7306 - val_accuracy: 0.8095\n",
      "Epoch 28/100\n",
      "11/11 [==============================] - 6s 511ms/step - loss: 0.2302 - accuracy: 0.8988 - val_loss: 0.4743 - val_accuracy: 0.8333\n",
      "Epoch 29/100\n",
      "11/11 [==============================] - 6s 515ms/step - loss: 0.1444 - accuracy: 0.9464 - val_loss: 0.4680 - val_accuracy: 0.8333\n",
      "Epoch 30/100\n",
      "11/11 [==============================] - 6s 542ms/step - loss: 0.2069 - accuracy: 0.9286 - val_loss: 0.5531 - val_accuracy: 0.7619\n",
      "Epoch 31/100\n",
      "11/11 [==============================] - 6s 509ms/step - loss: 0.2299 - accuracy: 0.9107 - val_loss: 0.5528 - val_accuracy: 0.8095\n",
      "Epoch 32/100\n",
      "11/11 [==============================] - 6s 503ms/step - loss: 0.1980 - accuracy: 0.9226 - val_loss: 0.6028 - val_accuracy: 0.8095\n",
      "Epoch 33/100\n",
      "11/11 [==============================] - 6s 511ms/step - loss: 0.1565 - accuracy: 0.9405 - val_loss: 0.8082 - val_accuracy: 0.7381\n",
      "Epoch 34/100\n",
      "11/11 [==============================] - 6s 511ms/step - loss: 0.2119 - accuracy: 0.9048 - val_loss: 0.6783 - val_accuracy: 0.7143\n",
      "Epoch 35/100\n",
      "11/11 [==============================] - 6s 525ms/step - loss: 0.1120 - accuracy: 0.9643 - val_loss: 0.6856 - val_accuracy: 0.7857\n",
      "Epoch 36/100\n",
      "11/11 [==============================] - 6s 524ms/step - loss: 0.1603 - accuracy: 0.9286 - val_loss: 0.9642 - val_accuracy: 0.7619\n",
      "Epoch 37/100\n",
      "11/11 [==============================] - 6s 507ms/step - loss: 0.2086 - accuracy: 0.9226 - val_loss: 0.7365 - val_accuracy: 0.8095\n",
      "Epoch 38/100\n",
      "11/11 [==============================] - 6s 505ms/step - loss: 0.1627 - accuracy: 0.9286 - val_loss: 0.7799 - val_accuracy: 0.7857\n",
      "Epoch 39/100\n",
      "11/11 [==============================] - 6s 516ms/step - loss: 0.1971 - accuracy: 0.9048 - val_loss: 0.6732 - val_accuracy: 0.8333\n",
      "Epoch 40/100\n",
      "11/11 [==============================] - 6s 518ms/step - loss: 0.1356 - accuracy: 0.9405 - val_loss: 0.6773 - val_accuracy: 0.8095\n",
      "Epoch 41/100\n",
      "11/11 [==============================] - 6s 515ms/step - loss: 0.1576 - accuracy: 0.9405 - val_loss: 0.6434 - val_accuracy: 0.7857\n",
      "Epoch 42/100\n",
      "11/11 [==============================] - 6s 537ms/step - loss: 0.1567 - accuracy: 0.9167 - val_loss: 0.6123 - val_accuracy: 0.8095\n",
      "Epoch 43/100\n",
      "11/11 [==============================] - 6s 572ms/step - loss: 0.1859 - accuracy: 0.9286 - val_loss: 0.6277 - val_accuracy: 0.8095\n",
      "Epoch 44/100\n",
      "11/11 [==============================] - 6s 516ms/step - loss: 0.1718 - accuracy: 0.9167 - val_loss: 0.9186 - val_accuracy: 0.7619\n",
      "Epoch 45/100\n",
      "11/11 [==============================] - 6s 510ms/step - loss: 0.1548 - accuracy: 0.9345 - val_loss: 1.0664 - val_accuracy: 0.7857\n",
      "Epoch 46/100\n",
      "11/11 [==============================] - 6s 512ms/step - loss: 0.1737 - accuracy: 0.8988 - val_loss: 0.7676 - val_accuracy: 0.8095\n",
      "Epoch 47/100\n",
      "11/11 [==============================] - 6s 508ms/step - loss: 0.1512 - accuracy: 0.9464 - val_loss: 0.7622 - val_accuracy: 0.8095\n",
      "Epoch 48/100\n",
      "11/11 [==============================] - 5s 500ms/step - loss: 0.1486 - accuracy: 0.9524 - val_loss: 1.0701 - val_accuracy: 0.7857\n",
      "Epoch 49/100\n",
      "11/11 [==============================] - 6s 506ms/step - loss: 0.1631 - accuracy: 0.9464 - val_loss: 0.8367 - val_accuracy: 0.7619\n",
      "Epoch 50/100\n",
      "11/11 [==============================] - 6s 521ms/step - loss: 0.1214 - accuracy: 0.9702 - val_loss: 0.8310 - val_accuracy: 0.7857\n",
      "Epoch 51/100\n",
      "11/11 [==============================] - 6s 524ms/step - loss: 0.1142 - accuracy: 0.9405 - val_loss: 0.7737 - val_accuracy: 0.7857\n",
      "Epoch 52/100\n",
      "11/11 [==============================] - 6s 544ms/step - loss: 0.1442 - accuracy: 0.9524 - val_loss: 0.7348 - val_accuracy: 0.8095\n",
      "Epoch 53/100\n",
      "11/11 [==============================] - 6s 538ms/step - loss: 0.1301 - accuracy: 0.9286 - val_loss: 0.8236 - val_accuracy: 0.8095\n",
      "Epoch 54/100\n",
      "11/11 [==============================] - 6s 534ms/step - loss: 0.1204 - accuracy: 0.9464 - val_loss: 0.6713 - val_accuracy: 0.8333\n",
      "Epoch 55/100\n",
      "11/11 [==============================] - 6s 532ms/step - loss: 0.1170 - accuracy: 0.9583 - val_loss: 0.7617 - val_accuracy: 0.7619\n",
      "Epoch 56/100\n",
      "11/11 [==============================] - 6s 537ms/step - loss: 0.0726 - accuracy: 0.9762 - val_loss: 0.6765 - val_accuracy: 0.7857\n",
      "Epoch 57/100\n",
      "11/11 [==============================] - 6s 538ms/step - loss: 0.1744 - accuracy: 0.9286 - val_loss: 0.8708 - val_accuracy: 0.7857\n",
      "Epoch 58/100\n",
      "11/11 [==============================] - 6s 537ms/step - loss: 0.1532 - accuracy: 0.9167 - val_loss: 1.0708 - val_accuracy: 0.7857\n",
      "Epoch 59/100\n",
      "11/11 [==============================] - 6s 561ms/step - loss: 0.1894 - accuracy: 0.9286 - val_loss: 0.8066 - val_accuracy: 0.7857\n",
      "Epoch 60/100\n",
      "11/11 [==============================] - 6s 540ms/step - loss: 0.2303 - accuracy: 0.8988 - val_loss: 0.9465 - val_accuracy: 0.7143\n",
      "Epoch 61/100\n",
      "11/11 [==============================] - 6s 557ms/step - loss: 0.1721 - accuracy: 0.9107 - val_loss: 0.7024 - val_accuracy: 0.7619\n",
      "Epoch 62/100\n",
      "11/11 [==============================] - 6s 592ms/step - loss: 0.1478 - accuracy: 0.9464 - val_loss: 0.8132 - val_accuracy: 0.7857\n",
      "Epoch 63/100\n",
      "11/11 [==============================] - 6s 543ms/step - loss: 0.0940 - accuracy: 0.9762 - val_loss: 0.8485 - val_accuracy: 0.7857\n",
      "Epoch 64/100\n",
      "11/11 [==============================] - 6s 543ms/step - loss: 0.1593 - accuracy: 0.9286 - val_loss: 0.7314 - val_accuracy: 0.7857\n",
      "Epoch 65/100\n",
      "11/11 [==============================] - 6s 573ms/step - loss: 0.0932 - accuracy: 0.9524 - val_loss: 0.8488 - val_accuracy: 0.7857\n",
      "Epoch 66/100\n",
      "11/11 [==============================] - 6s 515ms/step - loss: 0.1162 - accuracy: 0.9643 - val_loss: 1.0457 - val_accuracy: 0.7857\n",
      "Epoch 67/100\n",
      "11/11 [==============================] - 6s 521ms/step - loss: 0.1357 - accuracy: 0.9464 - val_loss: 1.2417 - val_accuracy: 0.7619\n",
      "Epoch 68/100\n",
      "11/11 [==============================] - 6s 552ms/step - loss: 0.1023 - accuracy: 0.9464 - val_loss: 0.8120 - val_accuracy: 0.7857\n",
      "Epoch 69/100\n",
      "11/11 [==============================] - 5s 493ms/step - loss: 0.0998 - accuracy: 0.9583 - val_loss: 0.6980 - val_accuracy: 0.8095\n",
      "Epoch 70/100\n",
      "11/11 [==============================] - 5s 496ms/step - loss: 0.1324 - accuracy: 0.9464 - val_loss: 0.6746 - val_accuracy: 0.7857\n",
      "Epoch 71/100\n",
      "11/11 [==============================] - 6s 576ms/step - loss: 0.1185 - accuracy: 0.9524 - val_loss: 0.8443 - val_accuracy: 0.7857\n",
      "Epoch 72/100\n",
      "11/11 [==============================] - 6s 510ms/step - loss: 0.0818 - accuracy: 0.9821 - val_loss: 0.8913 - val_accuracy: 0.7381\n",
      "Epoch 73/100\n",
      "11/11 [==============================] - 6s 531ms/step - loss: 0.0818 - accuracy: 0.9762 - val_loss: 0.8665 - val_accuracy: 0.7619\n",
      "Epoch 74/100\n",
      "11/11 [==============================] - 6s 572ms/step - loss: 0.0689 - accuracy: 0.9821 - val_loss: 0.8752 - val_accuracy: 0.8095\n",
      "Epoch 75/100\n",
      "11/11 [==============================] - 6s 517ms/step - loss: 0.0759 - accuracy: 0.9583 - val_loss: 0.9573 - val_accuracy: 0.7857\n",
      "Epoch 76/100\n",
      "11/11 [==============================] - 6s 528ms/step - loss: 0.0755 - accuracy: 0.9583 - val_loss: 0.9622 - val_accuracy: 0.7857\n",
      "Epoch 77/100\n",
      "11/11 [==============================] - 6s 564ms/step - loss: 0.0818 - accuracy: 0.9643 - val_loss: 0.8897 - val_accuracy: 0.7857\n",
      "Epoch 78/100\n",
      "11/11 [==============================] - 6s 519ms/step - loss: 0.0624 - accuracy: 0.9821 - val_loss: 1.0519 - val_accuracy: 0.8095\n",
      "Epoch 79/100\n",
      "11/11 [==============================] - 6s 522ms/step - loss: 0.1709 - accuracy: 0.9524 - val_loss: 1.0036 - val_accuracy: 0.7619\n",
      "Epoch 80/100\n",
      "11/11 [==============================] - 6s 548ms/step - loss: 0.1615 - accuracy: 0.9524 - val_loss: 1.1959 - val_accuracy: 0.8095\n",
      "Epoch 81/100\n",
      "11/11 [==============================] - 6s 510ms/step - loss: 0.0801 - accuracy: 0.9702 - val_loss: 1.1876 - val_accuracy: 0.8095\n",
      "Epoch 82/100\n",
      "11/11 [==============================] - 6s 519ms/step - loss: 0.0786 - accuracy: 0.9762 - val_loss: 0.9836 - val_accuracy: 0.8095\n",
      "Epoch 83/100\n",
      "11/11 [==============================] - 6s 594ms/step - loss: 0.1129 - accuracy: 0.9583 - val_loss: 1.0486 - val_accuracy: 0.7857\n",
      "Epoch 84/100\n",
      "11/11 [==============================] - 6s 524ms/step - loss: 0.1076 - accuracy: 0.9405 - val_loss: 1.3441 - val_accuracy: 0.8095\n",
      "Epoch 85/100\n",
      "11/11 [==============================] - 6s 523ms/step - loss: 0.1731 - accuracy: 0.9345 - val_loss: 1.0386 - val_accuracy: 0.8095\n",
      "Epoch 86/100\n",
      "11/11 [==============================] - 6s 561ms/step - loss: 0.1247 - accuracy: 0.9464 - val_loss: 0.8730 - val_accuracy: 0.8095\n",
      "Epoch 87/100\n",
      "11/11 [==============================] - 6s 511ms/step - loss: 0.1506 - accuracy: 0.9345 - val_loss: 1.2882 - val_accuracy: 0.7619\n",
      "Epoch 88/100\n",
      "11/11 [==============================] - 6s 507ms/step - loss: 0.2574 - accuracy: 0.9048 - val_loss: 1.1897 - val_accuracy: 0.8095\n",
      "Epoch 89/100\n",
      "11/11 [==============================] - 6s 531ms/step - loss: 0.2783 - accuracy: 0.9048 - val_loss: 0.5550 - val_accuracy: 0.8333\n",
      "Epoch 90/100\n",
      "11/11 [==============================] - 6s 573ms/step - loss: 0.1441 - accuracy: 0.9464 - val_loss: 0.7620 - val_accuracy: 0.8333\n",
      "Epoch 91/100\n",
      "11/11 [==============================] - 6s 550ms/step - loss: 0.1250 - accuracy: 0.9583 - val_loss: 0.7761 - val_accuracy: 0.8333\n",
      "Epoch 92/100\n",
      "11/11 [==============================] - 6s 534ms/step - loss: 0.0907 - accuracy: 0.9583 - val_loss: 0.7602 - val_accuracy: 0.8095\n",
      "Epoch 93/100\n",
      "11/11 [==============================] - 6s 519ms/step - loss: 0.0809 - accuracy: 0.9821 - val_loss: 0.9685 - val_accuracy: 0.7857\n",
      "Epoch 94/100\n",
      "11/11 [==============================] - 6s 535ms/step - loss: 0.0909 - accuracy: 0.9643 - val_loss: 0.7725 - val_accuracy: 0.8333\n",
      "Epoch 95/100\n",
      "11/11 [==============================] - 6s 544ms/step - loss: 0.1172 - accuracy: 0.9762 - val_loss: 0.7055 - val_accuracy: 0.8333\n",
      "Epoch 96/100\n",
      "11/11 [==============================] - 6s 514ms/step - loss: 0.0760 - accuracy: 0.9643 - val_loss: 0.7066 - val_accuracy: 0.8095\n",
      "Epoch 97/100\n",
      "11/11 [==============================] - 5s 500ms/step - loss: 0.0883 - accuracy: 0.9762 - val_loss: 0.8728 - val_accuracy: 0.8571\n",
      "Epoch 98/100\n",
      "11/11 [==============================] - 6s 523ms/step - loss: 0.0861 - accuracy: 0.9583 - val_loss: 0.8815 - val_accuracy: 0.8810\n",
      "Epoch 99/100\n",
      "11/11 [==============================] - 6s 531ms/step - loss: 0.0628 - accuracy: 0.9940 - val_loss: 0.7727 - val_accuracy: 0.8333\n",
      "Epoch 100/100\n",
      "11/11 [==============================] - 6s 547ms/step - loss: 0.0662 - accuracy: 0.9762 - val_loss: 0.7661 - val_accuracy: 0.8810\n"
     ]
    }
   ],
   "source": [
    "his=model.fit(datagen.flow(trainx,trainy,batch_size=16),\n",
    "              validation_data=(testx,testy),epochs=100)"
   ]
  },
  {
   "cell_type": "markdown",
   "id": "c02feea2",
   "metadata": {
    "papermill": {
     "duration": 0.078288,
     "end_time": "2023-02-10T18:47:40.266661",
     "exception": false,
     "start_time": "2023-02-10T18:47:40.188373",
     "status": "completed"
    },
    "tags": []
   },
   "source": [
    "# Validation"
   ]
  },
  {
   "cell_type": "code",
   "execution_count": 15,
   "id": "f5b165d6",
   "metadata": {
    "execution": {
     "iopub.execute_input": "2023-02-10T18:47:40.427221Z",
     "iopub.status.busy": "2023-02-10T18:47:40.426871Z",
     "iopub.status.idle": "2023-02-10T18:47:44.677567Z",
     "shell.execute_reply": "2023-02-10T18:47:44.676526Z"
    },
    "papermill": {
     "duration": 4.333551,
     "end_time": "2023-02-10T18:47:44.679990",
     "exception": false,
     "start_time": "2023-02-10T18:47:40.346439",
     "status": "completed"
    },
    "tags": []
   },
   "outputs": [
    {
     "name": "stdout",
     "output_type": "stream",
     "text": [
      "              precision    recall  f1-score   support\n",
      "\n",
      "         dog     0.9412    0.8000    0.8649        20\n",
      "         cat     0.8400    0.9545    0.8936        22\n",
      "\n",
      "    accuracy                         0.8810        42\n",
      "   macro avg     0.8906    0.8773    0.8792        42\n",
      "weighted avg     0.8882    0.8810    0.8799        42\n",
      "\n"
     ]
    }
   ],
   "source": [
    "y_pred = model.predict(testx)\n",
    "y_pred2 = np.argmax(y_pred,axis=1)\n",
    "ground = np.argmax(testy,axis=1)\n",
    "print(classification_report(ground,y_pred2,target_names=Name,digits=4))"
   ]
  },
  {
   "cell_type": "code",
   "execution_count": 16,
   "id": "3de66a64",
   "metadata": {
    "execution": {
     "iopub.execute_input": "2023-02-10T18:47:44.836537Z",
     "iopub.status.busy": "2023-02-10T18:47:44.836168Z",
     "iopub.status.idle": "2023-02-10T18:47:45.192326Z",
     "shell.execute_reply": "2023-02-10T18:47:45.191252Z"
    },
    "papermill": {
     "duration": 0.437233,
     "end_time": "2023-02-10T18:47:45.194342",
     "exception": false,
     "start_time": "2023-02-10T18:47:44.757109",
     "status": "completed"
    },
    "tags": []
   },
   "outputs": [
    {
     "data": {
      "image/png": "[encoded data removed]",
      "text/plain": [
       "<Figure size 432x288 with 1 Axes>"
      ]
     },
     "metadata": {
      "needs_background": "light"
     },
     "output_type": "display_data"
    },
    {
     "data": {
      "text/plain": [
       "<Figure size 432x288 with 0 Axes>"
      ]
     },
     "metadata": {},
     "output_type": "display_data"
    },
    {
     "data": {
      "image/png": "[encoded data removed]",
      "text/plain": [
       "<Figure size 432x288 with 1 Axes>"
      ]
     },
     "metadata": {
      "needs_background": "light"
     },
     "output_type": "display_data"
    },
    {
     "data": {
      "text/plain": [
       "<Figure size 432x288 with 0 Axes>"
      ]
     },
     "metadata": {},
     "output_type": "display_data"
    }
   ],
   "source": [
    "get_acc = his.history['accuracy']\n",
    "value_acc = his.history['val_accuracy']\n",
    "get_loss = his.history['loss']\n",
    "validation_loss = his.history['val_loss']\n",
    "\n",
    "epochs = range(len(get_acc))\n",
    "plt.plot(epochs, get_acc, 'r', label='Accuracy of Training data')\n",
    "plt.plot(epochs, value_acc, 'b', label='Accuracy of Validation data')\n",
    "plt.title('Training vs validation accuracy')\n",
    "plt.legend(loc=0)\n",
    "plt.figure()\n",
    "plt.show()\n",
    "\n",
    "epochs = range(len(get_loss))\n",
    "plt.plot(epochs, get_loss, 'r', label='Loss of Training data')\n",
    "plt.plot(epochs, validation_loss, 'b', label='Loss of Validation data')\n",
    "plt.title('Training vs validation loss')\n",
    "plt.legend(loc=0)\n",
    "plt.figure()\n",
    "plt.show()"
   ]
  },
  {
   "cell_type": "markdown",
   "id": "cc1b6377",
   "metadata": {
    "papermill": {
     "duration": 0.135223,
     "end_time": "2023-02-10T18:47:45.416006",
     "exception": false,
     "start_time": "2023-02-10T18:47:45.280783",
     "status": "completed"
    },
    "tags": []
   },
   "source": [
    "# Predict"
   ]
  },
  {
   "cell_type": "code",
   "execution_count": 17,
   "id": "d726744a",
   "metadata": {
    "execution": {
     "iopub.execute_input": "2023-02-10T18:47:45.574686Z",
     "iopub.status.busy": "2023-02-10T18:47:45.574092Z",
     "iopub.status.idle": "2023-02-10T18:47:47.367417Z",
     "shell.execute_reply": "2023-02-10T18:47:47.366010Z"
    },
    "papermill": {
     "duration": 1.874993,
     "end_time": "2023-02-10T18:47:47.369242",
     "exception": false,
     "start_time": "2023-02-10T18:47:45.494249",
     "status": "completed"
    },
    "tags": []
   },
   "outputs": [
    {
     "name": "stdout",
     "output_type": "stream",
     "text": [
      "[[9.0882760e-01 9.1172360e-02]\n",
      " [9.9824154e-01 1.7585084e-03]\n",
      " [9.9993336e-01 6.6574161e-05]]\n"
     ]
    }
   ],
   "source": [
    "pred=model.predict(testX)\n",
    "print(pred[0:3])"
   ]
  },
  {
   "cell_type": "code",
   "execution_count": 18,
   "id": "84d6ddc0",
   "metadata": {
    "execution": {
     "iopub.execute_input": "2023-02-10T18:47:47.528467Z",
     "iopub.status.busy": "2023-02-10T18:47:47.528097Z",
     "iopub.status.idle": "2023-02-10T18:47:47.534815Z",
     "shell.execute_reply": "2023-02-10T18:47:47.533949Z"
    },
    "papermill": {
     "duration": 0.089062,
     "end_time": "2023-02-10T18:47:47.536536",
     "exception": false,
     "start_time": "2023-02-10T18:47:47.447474",
     "status": "completed"
    },
    "tags": []
   },
   "outputs": [
    {
     "name": "stdout",
     "output_type": "stream",
     "text": [
      "[0, 0, 0]\n",
      "[0 0 0]\n"
     ]
    }
   ],
   "source": [
    "TEST_pred=[]\n",
    "for item in pred:\n",
    "    value=np.argmax(item)      \n",
    "    TEST_pred+=[value]\n",
    "TEST_true=test_labels\n",
    "print(TEST_pred[0:3])\n",
    "print(TEST_true[0:3])"
   ]
  },
  {
   "cell_type": "code",
   "execution_count": 19,
   "id": "4080dba4",
   "metadata": {
    "execution": {
     "iopub.execute_input": "2023-02-10T18:47:47.693594Z",
     "iopub.status.busy": "2023-02-10T18:47:47.693240Z",
     "iopub.status.idle": "2023-02-10T18:47:47.701326Z",
     "shell.execute_reply": "2023-02-10T18:47:47.700334Z"
    },
    "papermill": {
     "duration": 0.088578,
     "end_time": "2023-02-10T18:47:47.703160",
     "exception": false,
     "start_time": "2023-02-10T18:47:47.614582",
     "status": "completed"
    },
    "tags": []
   },
   "outputs": [
    {
     "name": "stdout",
     "output_type": "stream",
     "text": [
      "              precision    recall  f1-score   support\n",
      "\n",
      "         dog     1.0000    0.8214    0.9020        28\n",
      "         cat     0.8864    1.0000    0.9398        39\n",
      "\n",
      "    accuracy                         0.9254        67\n",
      "   macro avg     0.9432    0.9107    0.9209        67\n",
      "weighted avg     0.9339    0.9254    0.9240        67\n",
      "\n"
     ]
    }
   ],
   "source": [
    "from sklearn.metrics import classification_report\n",
    "print(classification_report(TEST_true,TEST_pred,target_names=Name,digits=4))"
   ]
  },
  {
   "cell_type": "code",
   "execution_count": null,
   "id": "dcc5862c",
   "metadata": {
    "papermill": {
     "duration": 0.081517,
     "end_time": "2023-02-10T18:47:47.863283",
     "exception": false,
     "start_time": "2023-02-10T18:47:47.781766",
     "status": "completed"
    },
    "tags": []
   },
   "outputs": [],
   "source": []
  }
 ],
 "metadata": {
  "kernelspec": {
   "display_name": "Python 3",
   "language": "python",
   "name": "python3"
  },
  "language_info": {
   "codemirror_mode": {
    "name": "ipython",
    "version": 3
   },
   "file_extension": ".py",
   "mimetype": "text/x-python",
   "name": "python",
   "nbconvert_exporter": "python",
   "pygments_lexer": "ipython3",
   "version": "3.7.12"
  },
  "papermill": {
   "default_parameters": {},
   "duration": 1084.413147,
   "end_time": "2023-02-10T18:47:50.836411",
   "environment_variables": {},
   "exception": null,
   "input_path": "__notebook__.ipynb",
   "output_path": "__notebook__.ipynb",
   "parameters": {},
   "start_time": "2023-02-10T18:29:46.423264",
   "version": "2.3.4"
  }
 },
 "nbformat": 4,
 "nbformat_minor": 5
}
